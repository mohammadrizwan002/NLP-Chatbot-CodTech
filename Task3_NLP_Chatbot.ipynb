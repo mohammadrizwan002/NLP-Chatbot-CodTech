{
  "nbformat": 4,
  "nbformat_minor": 0,
  "metadata": {
    "colab": {
      "provenance": []
    },
    "kernelspec": {
      "name": "python3",
      "display_name": "Python 3"
    },
    "language_info": {
      "name": "python"
    }
  },
  "cells": [
    {
      "cell_type": "code",
      "source": [
        "# Task 3 – CodTech Internship\n",
        "# Chatbot\n",
        "\n",
        "import nltk\n",
        "import string\n",
        "\n",
        "#Download module\n",
        "nltk.download('wordnet')\n",
        "from nltk.stem import WordNetLemmatizer\n",
        "\n",
        "lemmatizer = WordNetLemmatizer()\n",
        "\n",
        "# --------- Predefined Responses ---------\n",
        "responses = {\n",
        "    \"hello\": \"Hello! How can I help you today?\",\n",
        "    \"hi\": \"Hi there! What can I do for you?\",\n",
        "    \"how are you\": \"I'm just a bot, but I'm doing fine! How can I assist you?\",\n",
        "    \"what is your name\": \"I’m a simple Python chatbot created for CodTech Task 3.\",\n",
        "    \"bye\": \"Goodbye! Have a great day!\",\n",
        "    \"help\": \"Sure! I can answer questions about me or respond to greetings.\",\n",
        "}\n",
        "\n",
        "# --------- Preprocessing Function (No punkt tokenizer) ---------\n",
        "def preprocess(text):\n",
        "    text = text.lower()\n",
        "    for p in string.punctuation:\n",
        "        text = text.replace(p, \"\")\n",
        "    words = text.split()\n",
        "    lemmas = [lemmatizer.lemmatize(word) for word in words]\n",
        "    return \" \".join(lemmas)\n",
        "\n",
        "# --------- Chatbot Response ---------\n",
        "def get_response(user_input):\n",
        "    cleaned_input = preprocess(user_input)\n",
        "    for key in responses:\n",
        "        if key in cleaned_input:\n",
        "            return responses[key]\n",
        "    return \"Sorry, I didn’t understand that. Can you rephrase?\"\n",
        "\n",
        "# --------- Chatbot Loop ---------\n",
        "print(\"🤖 Chatbot: Hi! I’m your Python chatbot. Type 'bye' to exit.\")\n",
        "while True:\n",
        "    user_input = input(\"🧑 You: \")\n",
        "    if user_input.lower() == \"bye\":\n",
        "        print(\"🤖 Chatbot: Goodbye! Take care.\")\n",
        "        break\n",
        "    print(\"🤖 Chatbot:\", get_response(user_input))\n"
      ],
      "metadata": {
        "colab": {
          "base_uri": "https://localhost:8080/"
        },
        "id": "KfvO3tL7tJHu",
        "outputId": "73872837-2803-4379-8b7a-2f93468fd764"
      },
      "execution_count": 10,
      "outputs": [
        {
          "output_type": "stream",
          "name": "stderr",
          "text": [
            "[nltk_data] Downloading package wordnet to /root/nltk_data...\n",
            "[nltk_data]   Package wordnet is already up-to-date!\n"
          ]
        },
        {
          "output_type": "stream",
          "name": "stdout",
          "text": [
            "🤖 Chatbot: Hi! I’m your Python chatbot. Type 'bye' to exit.\n",
            "🧑 You: hi\n",
            "🤖 Chatbot: Hi there! What can I do for you?\n",
            "🧑 You: how are you ??\n",
            "🤖 Chatbot: I'm just a bot, but I'm doing fine! How can I assist you?\n",
            "🧑 You: what is your name?\n",
            "🤖 Chatbot: I’m a simple Python chatbot created for CodTech Task 3.\n",
            "🧑 You: bye\n",
            "🤖 Chatbot: Goodbye! Take care.\n"
          ]
        }
      ]
    }
  ]
}